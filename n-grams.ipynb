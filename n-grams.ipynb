{
 "cells": [
  {
   "cell_type": "code",
   "execution_count": 3,
   "metadata": {},
   "outputs": [],
   "source": [
    "#importing the sample dataset from sklearn\n",
    "from sklearn.datasets import fetch_20newsgroups\n",
    "from sklearn.feature_extraction.text import *\n",
    "from nltk import word_tokenize\n",
    "from nltk.stem.porter import PorterStemmer"
   ]
  },
  {
   "cell_type": "code",
   "execution_count": 4,
   "metadata": {},
   "outputs": [],
   "source": [
    "stemmer=PorterStemmer()\n",
    "\n",
    "def stem_tokens(tokens, stemmer):\n",
    "    stemmed = []\n",
    "    for item in tokens:\n",
    "        stemmed.append(stemmer.stem(item))\n",
    "    return stemmed\n",
    "\n",
    "def tokenize(text):\n",
    "    tokens = word_tokenize(text)\n",
    "    stems = stem_tokens(tokens, stemmer)\n",
    "    return stems"
   ]
  },
  {
   "cell_type": "code",
   "execution_count": 5,
   "metadata": {},
   "outputs": [],
   "source": [
    "corpus = ['The Snail and the Whale by Julia Donaldson','Room on the Broom by Julia Donaldson','The Smartest Giant in Town by Julia Donaldson','Inside Your Outside: All About the Human Body (Cat in the Hat Learning Library)','Here we are by Oliver Jeffers','Lost and Found by Oliver Jeffers','Dr.Seuss ABC/ The Cat in the Hat Comes Back by Dr. Seuss']"
   ]
  },
  {
   "cell_type": "code",
   "execution_count": 25,
   "metadata": {},
   "outputs": [
    {
     "name": "stdout",
     "output_type": "stream",
     "text": [
      "{'snail': 21, 'whale': 23, 'julia': 12, 'donaldson': 5, 'room': 18, 'broom': 2, 'smartest': 20, 'giant': 7, 'town': 22, 'inside': 10, 'outside': 17, 'human': 9, 'body': 1, 'cat': 3, 'hat': 8, 'learning': 13, 'library': 14, 'oliver': 16, 'jeffers': 11, 'lost': 15, 'dr': 6, 'seuss': 19, 'abc': 0, 'comes': 4}\n",
      "\"Julia\": 12\n",
      "1\n"
     ]
    }
   ],
   "source": [
    "vector=CountVectorizer(corpus,stop_words='english')\n",
    "vec=vector.fit_transform(corpus)\n",
    "vec.shape\n",
    "print(vector.vocabulary_) \n",
    "# show resulting vocabulary; the numbers are not counts, they are the position in the sparse vector.\n",
    "search_idx = vector.vocabulary_['julia']\n",
    "print('\"Julia\":', search_idx) \n",
    "print(vec[0,12])\n",
    "\n"
   ]
  },
  {
   "cell_type": "code",
   "execution_count": 26,
   "metadata": {},
   "outputs": [
    {
     "name": "stdout",
     "output_type": "stream",
     "text": [
      "['abc cat', 'cat hat', 'dr seuss', 'julia donaldson', 'oliver jeffers', 'outside human', 'room broom', 'seuss abc', 'smartest giant', 'snail whale']\n"
     ]
    }
   ],
   "source": [
    "count_words = CountVectorizer(analyzer='word', \n",
    "                              ngram_range=(2,2),\n",
    "                              max_features=10,\n",
    "                              stop_words='english')\n",
    "\n",
    "count_words.fit(corpus)\n",
    "\n",
    "\n",
    "\n",
    "print(count_words.get_feature_names())\n"
   ]
  },
  {
   "cell_type": "code",
   "execution_count": null,
   "metadata": {},
   "outputs": [],
   "source": []
  }
 ],
 "metadata": {
  "kernelspec": {
   "display_name": "Python 3",
   "language": "python",
   "name": "python3"
  },
  "language_info": {
   "codemirror_mode": {
    "name": "ipython",
    "version": 3
   },
   "file_extension": ".py",
   "mimetype": "text/x-python",
   "name": "python",
   "nbconvert_exporter": "python",
   "pygments_lexer": "ipython3",
   "version": "3.7.3"
  }
 },
 "nbformat": 4,
 "nbformat_minor": 2
}
